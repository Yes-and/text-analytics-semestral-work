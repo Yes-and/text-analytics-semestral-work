{
  "cells": [
    {
      "cell_type": "code",
      "execution_count": 5,
      "metadata": {
        "colab": {
          "base_uri": "https://localhost:8080/"
        },
        "id": "Oym3M8P1j47C",
        "outputId": "4f7f3d98-b2f7-4cec-d052-df039050fa9d"
      },
      "outputs": [
        {
          "output_type": "stream",
          "name": "stdout",
          "text": [
            "Collecting langdetect\n",
            "  Downloading langdetect-1.0.9.tar.gz (981 kB)\n",
            "\u001b[2K     \u001b[90m━━━━━━━━━━━━━━━━━━━━━━━━━━━━━━━━━━━━━━━━\u001b[0m \u001b[32m981.5/981.5 kB\u001b[0m \u001b[31m9.0 MB/s\u001b[0m eta \u001b[36m0:00:00\u001b[0m\n",
            "\u001b[?25h  Preparing metadata (setup.py) ... \u001b[?25l\u001b[?25hdone\n",
            "Requirement already satisfied: six in /usr/local/lib/python3.10/dist-packages (from langdetect) (1.16.0)\n",
            "Building wheels for collected packages: langdetect\n",
            "  Building wheel for langdetect (setup.py) ... \u001b[?25l\u001b[?25hdone\n",
            "  Created wheel for langdetect: filename=langdetect-1.0.9-py3-none-any.whl size=993225 sha256=172366f7b3553b0de489b78fb7a7035fd4f035ff56257ecc9820bdd58998a1e9\n",
            "  Stored in directory: /root/.cache/pip/wheels/95/03/7d/59ea870c70ce4e5a370638b5462a7711ab78fba2f655d05106\n",
            "Successfully built langdetect\n",
            "Installing collected packages: langdetect\n",
            "Successfully installed langdetect-1.0.9\n",
            "Collecting pyspellchecker\n",
            "  Downloading pyspellchecker-0.8.1-py3-none-any.whl (6.8 MB)\n",
            "\u001b[2K     \u001b[90m━━━━━━━━━━━━━━━━━━━━━━━━━━━━━━━━━━━━━━━━\u001b[0m \u001b[32m6.8/6.8 MB\u001b[0m \u001b[31m24.3 MB/s\u001b[0m eta \u001b[36m0:00:00\u001b[0m\n",
            "\u001b[?25hInstalling collected packages: pyspellchecker\n",
            "Successfully installed pyspellchecker-0.8.1\n"
          ]
        }
      ],
      "source": [
        "!pip install langdetect\n",
        "!pip install pyspellchecker"
      ]
    },
    {
      "cell_type": "code",
      "execution_count": 6,
      "metadata": {
        "id": "uNCvtmu4ng1C"
      },
      "outputs": [],
      "source": [
        "# Import necessary libraries\n",
        "import re\n",
        "\n",
        "import pandas as pd\n",
        "import numpy as np\n",
        "import spacy\n",
        "from spacy.language import Language\n",
        "from spacy.tokens import Doc\n",
        "from spacy.language import Language\n",
        "from langdetect import detect, DetectorFactory, LangDetectException\n",
        "from spacy.tokens import Doc\n",
        "from spacy.language import Language"
      ]
    },
    {
      "cell_type": "code",
      "execution_count": 7,
      "metadata": {
        "colab": {
          "base_uri": "https://localhost:8080/",
          "height": 206
        },
        "id": "D6M87-6okq-V",
        "outputId": "c148afaa-80b3-4d46-875f-bd8241123420"
      },
      "outputs": [
        {
          "output_type": "execute_result",
          "data": {
            "text/plain": [
              "                      content  score                   at  \\\n",
              "0  Gett van for no reason 😂😂😂      1  2023-09-19 15:05:31   \n",
              "1       better' than WhatsApp      4  2023-09-19 14:59:30   \n",
              "2    That was good app for me      5  2023-09-19 14:55:06   \n",
              "3                Love the app      5  2023-09-19 14:50:18   \n",
              "4                      🕳️🕳️🕳️      1  2023-09-19 14:48:20   \n",
              "\n",
              "                   app_id  \n",
              "0  org.telegram.messenger  \n",
              "1  org.telegram.messenger  \n",
              "2  org.telegram.messenger  \n",
              "3  org.telegram.messenger  \n",
              "4  org.telegram.messenger  "
            ],
            "text/html": [
              "\n",
              "  <div id=\"df-0cd3abab-2984-4132-8bff-120d72412b53\" class=\"colab-df-container\">\n",
              "    <div>\n",
              "<style scoped>\n",
              "    .dataframe tbody tr th:only-of-type {\n",
              "        vertical-align: middle;\n",
              "    }\n",
              "\n",
              "    .dataframe tbody tr th {\n",
              "        vertical-align: top;\n",
              "    }\n",
              "\n",
              "    .dataframe thead th {\n",
              "        text-align: right;\n",
              "    }\n",
              "</style>\n",
              "<table border=\"1\" class=\"dataframe\">\n",
              "  <thead>\n",
              "    <tr style=\"text-align: right;\">\n",
              "      <th></th>\n",
              "      <th>content</th>\n",
              "      <th>score</th>\n",
              "      <th>at</th>\n",
              "      <th>app_id</th>\n",
              "    </tr>\n",
              "  </thead>\n",
              "  <tbody>\n",
              "    <tr>\n",
              "      <th>0</th>\n",
              "      <td>Gett van for no reason 😂😂😂</td>\n",
              "      <td>1</td>\n",
              "      <td>2023-09-19 15:05:31</td>\n",
              "      <td>org.telegram.messenger</td>\n",
              "    </tr>\n",
              "    <tr>\n",
              "      <th>1</th>\n",
              "      <td>better' than WhatsApp</td>\n",
              "      <td>4</td>\n",
              "      <td>2023-09-19 14:59:30</td>\n",
              "      <td>org.telegram.messenger</td>\n",
              "    </tr>\n",
              "    <tr>\n",
              "      <th>2</th>\n",
              "      <td>That was good app for me</td>\n",
              "      <td>5</td>\n",
              "      <td>2023-09-19 14:55:06</td>\n",
              "      <td>org.telegram.messenger</td>\n",
              "    </tr>\n",
              "    <tr>\n",
              "      <th>3</th>\n",
              "      <td>Love the app</td>\n",
              "      <td>5</td>\n",
              "      <td>2023-09-19 14:50:18</td>\n",
              "      <td>org.telegram.messenger</td>\n",
              "    </tr>\n",
              "    <tr>\n",
              "      <th>4</th>\n",
              "      <td>🕳️🕳️🕳️</td>\n",
              "      <td>1</td>\n",
              "      <td>2023-09-19 14:48:20</td>\n",
              "      <td>org.telegram.messenger</td>\n",
              "    </tr>\n",
              "  </tbody>\n",
              "</table>\n",
              "</div>\n",
              "    <div class=\"colab-df-buttons\">\n",
              "\n",
              "  <div class=\"colab-df-container\">\n",
              "    <button class=\"colab-df-convert\" onclick=\"convertToInteractive('df-0cd3abab-2984-4132-8bff-120d72412b53')\"\n",
              "            title=\"Convert this dataframe to an interactive table.\"\n",
              "            style=\"display:none;\">\n",
              "\n",
              "  <svg xmlns=\"http://www.w3.org/2000/svg\" height=\"24px\" viewBox=\"0 -960 960 960\">\n",
              "    <path d=\"M120-120v-720h720v720H120Zm60-500h600v-160H180v160Zm220 220h160v-160H400v160Zm0 220h160v-160H400v160ZM180-400h160v-160H180v160Zm440 0h160v-160H620v160ZM180-180h160v-160H180v160Zm440 0h160v-160H620v160Z\"/>\n",
              "  </svg>\n",
              "    </button>\n",
              "\n",
              "  <style>\n",
              "    .colab-df-container {\n",
              "      display:flex;\n",
              "      gap: 12px;\n",
              "    }\n",
              "\n",
              "    .colab-df-convert {\n",
              "      background-color: #E8F0FE;\n",
              "      border: none;\n",
              "      border-radius: 50%;\n",
              "      cursor: pointer;\n",
              "      display: none;\n",
              "      fill: #1967D2;\n",
              "      height: 32px;\n",
              "      padding: 0 0 0 0;\n",
              "      width: 32px;\n",
              "    }\n",
              "\n",
              "    .colab-df-convert:hover {\n",
              "      background-color: #E2EBFA;\n",
              "      box-shadow: 0px 1px 2px rgba(60, 64, 67, 0.3), 0px 1px 3px 1px rgba(60, 64, 67, 0.15);\n",
              "      fill: #174EA6;\n",
              "    }\n",
              "\n",
              "    .colab-df-buttons div {\n",
              "      margin-bottom: 4px;\n",
              "    }\n",
              "\n",
              "    [theme=dark] .colab-df-convert {\n",
              "      background-color: #3B4455;\n",
              "      fill: #D2E3FC;\n",
              "    }\n",
              "\n",
              "    [theme=dark] .colab-df-convert:hover {\n",
              "      background-color: #434B5C;\n",
              "      box-shadow: 0px 1px 3px 1px rgba(0, 0, 0, 0.15);\n",
              "      filter: drop-shadow(0px 1px 2px rgba(0, 0, 0, 0.3));\n",
              "      fill: #FFFFFF;\n",
              "    }\n",
              "  </style>\n",
              "\n",
              "    <script>\n",
              "      const buttonEl =\n",
              "        document.querySelector('#df-0cd3abab-2984-4132-8bff-120d72412b53 button.colab-df-convert');\n",
              "      buttonEl.style.display =\n",
              "        google.colab.kernel.accessAllowed ? 'block' : 'none';\n",
              "\n",
              "      async function convertToInteractive(key) {\n",
              "        const element = document.querySelector('#df-0cd3abab-2984-4132-8bff-120d72412b53');\n",
              "        const dataTable =\n",
              "          await google.colab.kernel.invokeFunction('convertToInteractive',\n",
              "                                                    [key], {});\n",
              "        if (!dataTable) return;\n",
              "\n",
              "        const docLinkHtml = 'Like what you see? Visit the ' +\n",
              "          '<a target=\"_blank\" href=https://colab.research.google.com/notebooks/data_table.ipynb>data table notebook</a>'\n",
              "          + ' to learn more about interactive tables.';\n",
              "        element.innerHTML = '';\n",
              "        dataTable['output_type'] = 'display_data';\n",
              "        await google.colab.output.renderOutput(dataTable, element);\n",
              "        const docLink = document.createElement('div');\n",
              "        docLink.innerHTML = docLinkHtml;\n",
              "        element.appendChild(docLink);\n",
              "      }\n",
              "    </script>\n",
              "  </div>\n",
              "\n",
              "\n",
              "<div id=\"df-de916ed3-66a7-4029-8265-add057873c44\">\n",
              "  <button class=\"colab-df-quickchart\" onclick=\"quickchart('df-de916ed3-66a7-4029-8265-add057873c44')\"\n",
              "            title=\"Suggest charts\"\n",
              "            style=\"display:none;\">\n",
              "\n",
              "<svg xmlns=\"http://www.w3.org/2000/svg\" height=\"24px\"viewBox=\"0 0 24 24\"\n",
              "     width=\"24px\">\n",
              "    <g>\n",
              "        <path d=\"M19 3H5c-1.1 0-2 .9-2 2v14c0 1.1.9 2 2 2h14c1.1 0 2-.9 2-2V5c0-1.1-.9-2-2-2zM9 17H7v-7h2v7zm4 0h-2V7h2v10zm4 0h-2v-4h2v4z\"/>\n",
              "    </g>\n",
              "</svg>\n",
              "  </button>\n",
              "\n",
              "<style>\n",
              "  .colab-df-quickchart {\n",
              "      --bg-color: #E8F0FE;\n",
              "      --fill-color: #1967D2;\n",
              "      --hover-bg-color: #E2EBFA;\n",
              "      --hover-fill-color: #174EA6;\n",
              "      --disabled-fill-color: #AAA;\n",
              "      --disabled-bg-color: #DDD;\n",
              "  }\n",
              "\n",
              "  [theme=dark] .colab-df-quickchart {\n",
              "      --bg-color: #3B4455;\n",
              "      --fill-color: #D2E3FC;\n",
              "      --hover-bg-color: #434B5C;\n",
              "      --hover-fill-color: #FFFFFF;\n",
              "      --disabled-bg-color: #3B4455;\n",
              "      --disabled-fill-color: #666;\n",
              "  }\n",
              "\n",
              "  .colab-df-quickchart {\n",
              "    background-color: var(--bg-color);\n",
              "    border: none;\n",
              "    border-radius: 50%;\n",
              "    cursor: pointer;\n",
              "    display: none;\n",
              "    fill: var(--fill-color);\n",
              "    height: 32px;\n",
              "    padding: 0;\n",
              "    width: 32px;\n",
              "  }\n",
              "\n",
              "  .colab-df-quickchart:hover {\n",
              "    background-color: var(--hover-bg-color);\n",
              "    box-shadow: 0 1px 2px rgba(60, 64, 67, 0.3), 0 1px 3px 1px rgba(60, 64, 67, 0.15);\n",
              "    fill: var(--button-hover-fill-color);\n",
              "  }\n",
              "\n",
              "  .colab-df-quickchart-complete:disabled,\n",
              "  .colab-df-quickchart-complete:disabled:hover {\n",
              "    background-color: var(--disabled-bg-color);\n",
              "    fill: var(--disabled-fill-color);\n",
              "    box-shadow: none;\n",
              "  }\n",
              "\n",
              "  .colab-df-spinner {\n",
              "    border: 2px solid var(--fill-color);\n",
              "    border-color: transparent;\n",
              "    border-bottom-color: var(--fill-color);\n",
              "    animation:\n",
              "      spin 1s steps(1) infinite;\n",
              "  }\n",
              "\n",
              "  @keyframes spin {\n",
              "    0% {\n",
              "      border-color: transparent;\n",
              "      border-bottom-color: var(--fill-color);\n",
              "      border-left-color: var(--fill-color);\n",
              "    }\n",
              "    20% {\n",
              "      border-color: transparent;\n",
              "      border-left-color: var(--fill-color);\n",
              "      border-top-color: var(--fill-color);\n",
              "    }\n",
              "    30% {\n",
              "      border-color: transparent;\n",
              "      border-left-color: var(--fill-color);\n",
              "      border-top-color: var(--fill-color);\n",
              "      border-right-color: var(--fill-color);\n",
              "    }\n",
              "    40% {\n",
              "      border-color: transparent;\n",
              "      border-right-color: var(--fill-color);\n",
              "      border-top-color: var(--fill-color);\n",
              "    }\n",
              "    60% {\n",
              "      border-color: transparent;\n",
              "      border-right-color: var(--fill-color);\n",
              "    }\n",
              "    80% {\n",
              "      border-color: transparent;\n",
              "      border-right-color: var(--fill-color);\n",
              "      border-bottom-color: var(--fill-color);\n",
              "    }\n",
              "    90% {\n",
              "      border-color: transparent;\n",
              "      border-bottom-color: var(--fill-color);\n",
              "    }\n",
              "  }\n",
              "</style>\n",
              "\n",
              "  <script>\n",
              "    async function quickchart(key) {\n",
              "      const quickchartButtonEl =\n",
              "        document.querySelector('#' + key + ' button');\n",
              "      quickchartButtonEl.disabled = true;  // To prevent multiple clicks.\n",
              "      quickchartButtonEl.classList.add('colab-df-spinner');\n",
              "      try {\n",
              "        const charts = await google.colab.kernel.invokeFunction(\n",
              "            'suggestCharts', [key], {});\n",
              "      } catch (error) {\n",
              "        console.error('Error during call to suggestCharts:', error);\n",
              "      }\n",
              "      quickchartButtonEl.classList.remove('colab-df-spinner');\n",
              "      quickchartButtonEl.classList.add('colab-df-quickchart-complete');\n",
              "    }\n",
              "    (() => {\n",
              "      let quickchartButtonEl =\n",
              "        document.querySelector('#df-de916ed3-66a7-4029-8265-add057873c44 button');\n",
              "      quickchartButtonEl.style.display =\n",
              "        google.colab.kernel.accessAllowed ? 'block' : 'none';\n",
              "    })();\n",
              "  </script>\n",
              "</div>\n",
              "    </div>\n",
              "  </div>\n"
            ]
          },
          "metadata": {},
          "execution_count": 7
        }
      ],
      "source": [
        "# Load and clean up reviews\n",
        "df = pd.read_csv(\"processed_reviews.csv\")\n",
        "df = df[[\"content\", \"score\", \"at\", \"app_id\"]].copy()\n",
        "df.head()"
      ]
    },
    {
      "cell_type": "code",
      "execution_count": 8,
      "metadata": {
        "id": "iJB5QyTJlk0I"
      },
      "outputs": [],
      "source": [
        "# Load Spacy English model\n",
        "nlp = spacy.load(\"en_core_web_sm\")"
      ]
    },
    {
      "cell_type": "code",
      "execution_count": 9,
      "metadata": {
        "colab": {
          "base_uri": "https://localhost:8080/"
        },
        "id": "MDhHVS_VruTb",
        "outputId": "f660f5bd-5b16-4ca8-b9dc-746ee6149afb"
      },
      "outputs": [
        {
          "output_type": "execute_result",
          "data": {
            "text/plain": [
              "<function __main__.filter_length(doc)>"
            ]
          },
          "metadata": {},
          "execution_count": 9
        }
      ],
      "source": [
        "@Language.component(\"filter_length\")\n",
        "def filter_length(doc):\n",
        "    # Count the number of word tokens in the document\n",
        "    word_count = len([token for token in doc if token.is_alpha])\n",
        "\n",
        "    # Check if the document has more than 1 word\n",
        "    if word_count > 1:\n",
        "        return doc\n",
        "    else:\n",
        "        # Return an empty Doc if the condition is not met\n",
        "        return Doc(doc.vocab, words=[])\n",
        "\n",
        "# Add the component to the pipeline\n",
        "nlp.add_pipe(\"filter_length\", name=\"length_filter\", first=True)"
      ]
    },
    {
      "cell_type": "code",
      "execution_count": 10,
      "metadata": {
        "colab": {
          "base_uri": "https://localhost:8080/"
        },
        "id": "rWiuYQKXrzqJ",
        "outputId": "1748f4f1-fee0-4c5c-98c8-2e8843550a6c"
      },
      "outputs": [
        {
          "output_type": "execute_result",
          "data": {
            "text/plain": [
              "<function __main__.filter_emojis(doc)>"
            ]
          },
          "metadata": {},
          "execution_count": 10
        }
      ],
      "source": [
        "@Language.component(\"filter_emojis\")\n",
        "def filter_emojis(doc):\n",
        "    # Check if the document is empty (as a result of the previous filter)\n",
        "    if len(doc) == 0:\n",
        "        return doc\n",
        "\n",
        "    # Regular expression pattern to match emojis\n",
        "    emoji_pattern = re.compile(\"[\"\n",
        "                               u\"\\U0001F600-\\U0001F64F\"  # emoticons\n",
        "                               u\"\\U0001F300-\\U0001F5FF\"  # symbols & pictographs\n",
        "                               u\"\\U0001F680-\\U0001F6FF\"  # transport & map symbols\n",
        "                               u\"\\U0001F1E0-\\U0001F1FF\"  # flags (iOS)\n",
        "                               \"]+\", flags=re.UNICODE)\n",
        "\n",
        "    # Remove emojis from the text\n",
        "    new_text = emoji_pattern.sub(r'', doc.text)\n",
        "\n",
        "    # Create a new Doc with the emoji-free text\n",
        "    return Doc(doc.vocab, words=new_text.split())\n",
        "\n",
        "# Add the component to the pipeline\n",
        "nlp.add_pipe(\"filter_emojis\", name=\"emoji_filter\", after=\"length_filter\")"
      ]
    },
    {
      "cell_type": "code",
      "execution_count": 11,
      "metadata": {
        "colab": {
          "base_uri": "https://localhost:8080/"
        },
        "id": "x6mzeam3slOW",
        "outputId": "80853fdd-7d7d-409a-91f0-585addb21d5e"
      },
      "outputs": [
        {
          "output_type": "execute_result",
          "data": {
            "text/plain": [
              "<function __main__.filter_language(doc)>"
            ]
          },
          "metadata": {},
          "execution_count": 11
        }
      ],
      "source": [
        "# Set seed for langdetect to get deterministic results\n",
        "DetectorFactory.seed = 0\n",
        "\n",
        "@Language.component(\"filter_language\")\n",
        "def filter_language(doc):\n",
        "    # Check if the document is empty\n",
        "    if len(doc) == 0:\n",
        "        return doc\n",
        "\n",
        "    try:\n",
        "        # Detect the language of the text\n",
        "        if detect(doc.text) == 'en':\n",
        "            return doc\n",
        "        else:\n",
        "            # Return an empty Doc if the text is not English\n",
        "            return Doc(doc.vocab, words=[])\n",
        "    except LangDetectException:\n",
        "        # Handle exception if language detection fails\n",
        "        return Doc(doc.vocab, words=[])\n",
        "\n",
        "# Add the component to the pipeline\n",
        "nlp.add_pipe(\"filter_language\", name=\"language_filter\", after=\"emoji_filter\")"
      ]
    },
    {
      "cell_type": "code",
      "execution_count": 12,
      "metadata": {
        "colab": {
          "base_uri": "https://localhost:8080/"
        },
        "id": "lXXMnaNfCb1H",
        "outputId": "4e9a0a0c-1a9c-43a7-c5c7-e29ab507371a"
      },
      "outputs": [
        {
          "output_type": "execute_result",
          "data": {
            "text/plain": [
              "<function __main__.filter_english_symbols(doc)>"
            ]
          },
          "metadata": {},
          "execution_count": 12
        }
      ],
      "source": [
        "# Custom component for keeping only standard English sentence symbols\n",
        "@Language.component(\"filter_english_symbols\")\n",
        "def filter_english_symbols(doc):\n",
        "    # Define a regular expression pattern to match all types of punctuation\n",
        "    punctuation_pattern = re.compile(r'[^\\w\\s]+')\n",
        "\n",
        "    # Use re.sub() to replace punctuation with an empty space in the entire text\n",
        "    processed_text = re.sub(punctuation_pattern, ' ', doc.text)\n",
        "\n",
        "    # Create a new Doc with the processed text\n",
        "    new_doc = Doc(doc.vocab, words=processed_text.split())\n",
        "    return new_doc\n",
        "\n",
        "# Add the component to the pipeline\n",
        "nlp.add_pipe(\"filter_english_symbols\", name=\"english_symbol_filter\", after=\"language_filter\")"
      ]
    },
    {
      "cell_type": "code",
      "execution_count": 13,
      "metadata": {
        "colab": {
          "base_uri": "https://localhost:8080/"
        },
        "id": "TZjjNP06OvGY",
        "outputId": "c9101ea3-5e3a-44ba-a59d-57a76d2fffa2"
      },
      "outputs": [
        {
          "output_type": "execute_result",
          "data": {
            "text/plain": [
              "<function __main__.remove_stopwords(doc)>"
            ]
          },
          "metadata": {},
          "execution_count": 13
        }
      ],
      "source": [
        "@Language.component(\"remove_stopwords\")\n",
        "def remove_stopwords(doc):\n",
        "    # Check if the document is empty\n",
        "    if len(doc) == 0:\n",
        "        return doc\n",
        "\n",
        "    # Remove stop words from the text\n",
        "    stop_words = set(token.text for token in doc if token.is_stop and token.text.lower() not in {\"not\", \"do\", \"can\",\"don\"})\n",
        "    filtered_tokens = [token.text for token in doc if token.text not in stop_words]\n",
        "    # Check if filtered tokens are empty\n",
        "    if not filtered_tokens:\n",
        "        return doc\n",
        "\n",
        "    # Create a new Doc with the text without stop words\n",
        "    new_doc = Doc(doc.vocab, words=filtered_tokens)\n",
        "    return new_doc\n",
        "\n",
        "# Add the component to the pipeline\n",
        "nlp.add_pipe(\"remove_stopwords\", name=\"stopword_remover\", after=\"english_symbol_filter\")"
      ]
    },
    {
      "cell_type": "code",
      "execution_count": 14,
      "metadata": {
        "colab": {
          "base_uri": "https://localhost:8080/"
        },
        "id": "NI3iPy4UOvGa",
        "outputId": "14a0528d-df78-48a8-fde4-42f7709c09cc"
      },
      "outputs": [
        {
          "output_type": "execute_result",
          "data": {
            "text/plain": [
              "<function __main__.expand_contractions(doc)>"
            ]
          },
          "metadata": {},
          "execution_count": 14
        }
      ],
      "source": [
        "contractions = {\n",
        "    \"t\": \"not\",\n",
        "    \"don\": \"do\",\n",
        "    \"doesn\": \"does\",\n",
        "    \"didn\": \"did\",\n",
        "    \"won\": \"will\",\n",
        "    \"cant\": \"cannot\",\n",
        "}\n",
        "\n",
        "@Language.component(\"expand_contractions\")\n",
        "def expand_contractions(doc):\n",
        "    # Check if the document is empty\n",
        "    if len(doc) == 0:\n",
        "        return doc\n",
        "\n",
        "    # Expand contractions in the text\n",
        "    expanded_tokens = [contractions.get(token.text, token.text) for token in doc]\n",
        "\n",
        "    # Check if expanded tokens are empty\n",
        "    if not expanded_tokens:\n",
        "        return doc\n",
        "\n",
        "    # Create a new Doc with the expanded text\n",
        "    new_doc = Doc(doc.vocab, words=expanded_tokens)\n",
        "    return new_doc\n",
        "\n",
        "# Add the component to the pipeline\n",
        "nlp.add_pipe(\"expand_contractions\", name=\"contraction_expander\", after=\"stopword_remover\")"
      ]
    },
    {
      "cell_type": "code",
      "execution_count": 15,
      "metadata": {
        "colab": {
          "base_uri": "https://localhost:8080/"
        },
        "id": "Pm98iYJ5s8sA",
        "outputId": "8f90babf-bf6c-4555-c708-4ae2530cae62"
      },
      "outputs": [
        {
          "output_type": "execute_result",
          "data": {
            "text/plain": [
              "<function __main__.preprocess_text(doc)>"
            ]
          },
          "metadata": {},
          "execution_count": 15
        }
      ],
      "source": [
        "@Language.component(\"preprocess_text\")\n",
        "def preprocess_text(doc):\n",
        "    # Check if the document is empty\n",
        "    if len(doc) == 0:\n",
        "        return doc\n",
        "\n",
        "    # Process the text: lowercase, remove punctuation, and lemmatize\n",
        "    lemmatized_tokens = [token.lemma_.lower() for token in doc if token.is_alpha]\n",
        "\n",
        "    if not lemmatized_tokens:\n",
        "      return doc\n",
        "\n",
        "    # Create a new Doc with the processed text\n",
        "    # Note: This method preserves the original Doc's properties\n",
        "    new_doc = Doc(doc.vocab, words=lemmatized_tokens)\n",
        "    return new_doc\n",
        "\n",
        "# Add the component to the pipeline\n",
        "nlp.add_pipe(\"preprocess_text\", name=\"text_preprocessor\", last=True)\n",
        "# nlp.remove_pipe(\"text_preprocessor\")"
      ]
    },
    {
      "cell_type": "code",
      "source": [
        "# Save our preprocessing pipeline\n",
        "nlp.pipe_names\n",
        "nlp.to_disk(\"preprocessing_service/pipeline\")"
      ],
      "metadata": {
        "id": "ldb-ZCJ-BiIs"
      },
      "execution_count": 19,
      "outputs": []
    },
    {
      "cell_type": "code",
      "execution_count": 20,
      "metadata": {
        "colab": {
          "base_uri": "https://localhost:8080/"
        },
        "id": "bBih4QuXtTQW",
        "outputId": "e563fc4b-33a8-435b-819d-6e0a024550ae"
      },
      "outputs": [
        {
          "output_type": "stream",
          "name": "stdout",
          "text": [
            "content: Gett van for no reason 😂😂😂\n",
            "parsed: \n",
            "##########\n",
            "content: better' than WhatsApp\n",
            "parsed: well whatsapp \n",
            "##########\n",
            "content: That was good app for me\n",
            "parsed: good app \n",
            "##########\n",
            "content: Love the app\n",
            "parsed: love app \n",
            "##########\n",
            "content: 🕳️🕳️🕳️\n",
            "parsed: \n",
            "##########\n",
            "content: Good app\n",
            "parsed: good app \n",
            "##########\n",
            "content: Nice app\n",
            "parsed: nice app \n",
            "##########\n",
            "content: telegram mare call par nai ban rhi\n",
            "parsed: \n",
            "##########\n",
            "content: now how to mute stories?\n",
            "parsed: mute story \n",
            "##########\n",
            "content: Good parfom sab 1\n",
            "parsed: \n",
            "##########\n"
          ]
        }
      ],
      "source": [
        "# Parse reviews using our pipeline and add them to our dataset\n",
        "parsed_reviews = []\n",
        "counter = 0\n",
        "for i in list(df.index):\n",
        "  content = df.at[i, \"content\"]\n",
        "  parsed = nlp(content)\n",
        "  if counter < 10:\n",
        "    print(\"content:\", content)\n",
        "    print(\"parsed:\", parsed)\n",
        "    print(\"#\"*10)\n",
        "  parsed_reviews.append(parsed)\n",
        "  counter += 1\n",
        "df[\"parsedContent\"] = parsed_reviews"
      ]
    },
    {
      "cell_type": "code",
      "source": [
        "# Parsing reviews into usable pieces of text leaves us with half of the reviews\n",
        "print(df.shape[0])\n",
        "df_use = df.loc[df[\"parsedContent\"].apply(lambda x: len(x)>1)].copy()\n",
        "print(df_use.shape[0])"
      ],
      "metadata": {
        "colab": {
          "base_uri": "https://localhost:8080/"
        },
        "id": "H0kODENKCo56",
        "outputId": "45481c6e-798f-4ef3-addb-111694ac9196"
      },
      "execution_count": 21,
      "outputs": [
        {
          "output_type": "stream",
          "name": "stdout",
          "text": [
            "1200\n",
            "551\n"
          ]
        }
      ]
    },
    {
      "cell_type": "code",
      "source": [
        "# We will now transform it into a format that will be used in training\n",
        "df_use[\"sentiment_pos\"] = df_use[\"score\"].apply(lambda x: x>3)\n",
        "df_use['cats'] = [{'POSITIVE': y==True, 'NEGATIVE': y==False} for y in df_use['sentiment_pos']]\n",
        "df_use[[\"content\", \"sentiment_pos\"]].head()"
      ],
      "metadata": {
        "colab": {
          "base_uri": "https://localhost:8080/",
          "height": 206
        },
        "id": "5YYStA4CDa6o",
        "outputId": "dada3e42-5c03-436a-cc44-e80fe489d195"
      },
      "execution_count": 22,
      "outputs": [
        {
          "output_type": "execute_result",
          "data": {
            "text/plain": [
              "                    content  sentiment_pos\n",
              "1     better' than WhatsApp           True\n",
              "2  That was good app for me           True\n",
              "3              Love the app           True\n",
              "5                  Good app           True\n",
              "6                  Nice app           True"
            ],
            "text/html": [
              "\n",
              "  <div id=\"df-0e41ea4b-3291-4f45-8f70-c9101ec84704\" class=\"colab-df-container\">\n",
              "    <div>\n",
              "<style scoped>\n",
              "    .dataframe tbody tr th:only-of-type {\n",
              "        vertical-align: middle;\n",
              "    }\n",
              "\n",
              "    .dataframe tbody tr th {\n",
              "        vertical-align: top;\n",
              "    }\n",
              "\n",
              "    .dataframe thead th {\n",
              "        text-align: right;\n",
              "    }\n",
              "</style>\n",
              "<table border=\"1\" class=\"dataframe\">\n",
              "  <thead>\n",
              "    <tr style=\"text-align: right;\">\n",
              "      <th></th>\n",
              "      <th>content</th>\n",
              "      <th>sentiment_pos</th>\n",
              "    </tr>\n",
              "  </thead>\n",
              "  <tbody>\n",
              "    <tr>\n",
              "      <th>1</th>\n",
              "      <td>better' than WhatsApp</td>\n",
              "      <td>True</td>\n",
              "    </tr>\n",
              "    <tr>\n",
              "      <th>2</th>\n",
              "      <td>That was good app for me</td>\n",
              "      <td>True</td>\n",
              "    </tr>\n",
              "    <tr>\n",
              "      <th>3</th>\n",
              "      <td>Love the app</td>\n",
              "      <td>True</td>\n",
              "    </tr>\n",
              "    <tr>\n",
              "      <th>5</th>\n",
              "      <td>Good app</td>\n",
              "      <td>True</td>\n",
              "    </tr>\n",
              "    <tr>\n",
              "      <th>6</th>\n",
              "      <td>Nice app</td>\n",
              "      <td>True</td>\n",
              "    </tr>\n",
              "  </tbody>\n",
              "</table>\n",
              "</div>\n",
              "    <div class=\"colab-df-buttons\">\n",
              "\n",
              "  <div class=\"colab-df-container\">\n",
              "    <button class=\"colab-df-convert\" onclick=\"convertToInteractive('df-0e41ea4b-3291-4f45-8f70-c9101ec84704')\"\n",
              "            title=\"Convert this dataframe to an interactive table.\"\n",
              "            style=\"display:none;\">\n",
              "\n",
              "  <svg xmlns=\"http://www.w3.org/2000/svg\" height=\"24px\" viewBox=\"0 -960 960 960\">\n",
              "    <path d=\"M120-120v-720h720v720H120Zm60-500h600v-160H180v160Zm220 220h160v-160H400v160Zm0 220h160v-160H400v160ZM180-400h160v-160H180v160Zm440 0h160v-160H620v160ZM180-180h160v-160H180v160Zm440 0h160v-160H620v160Z\"/>\n",
              "  </svg>\n",
              "    </button>\n",
              "\n",
              "  <style>\n",
              "    .colab-df-container {\n",
              "      display:flex;\n",
              "      gap: 12px;\n",
              "    }\n",
              "\n",
              "    .colab-df-convert {\n",
              "      background-color: #E8F0FE;\n",
              "      border: none;\n",
              "      border-radius: 50%;\n",
              "      cursor: pointer;\n",
              "      display: none;\n",
              "      fill: #1967D2;\n",
              "      height: 32px;\n",
              "      padding: 0 0 0 0;\n",
              "      width: 32px;\n",
              "    }\n",
              "\n",
              "    .colab-df-convert:hover {\n",
              "      background-color: #E2EBFA;\n",
              "      box-shadow: 0px 1px 2px rgba(60, 64, 67, 0.3), 0px 1px 3px 1px rgba(60, 64, 67, 0.15);\n",
              "      fill: #174EA6;\n",
              "    }\n",
              "\n",
              "    .colab-df-buttons div {\n",
              "      margin-bottom: 4px;\n",
              "    }\n",
              "\n",
              "    [theme=dark] .colab-df-convert {\n",
              "      background-color: #3B4455;\n",
              "      fill: #D2E3FC;\n",
              "    }\n",
              "\n",
              "    [theme=dark] .colab-df-convert:hover {\n",
              "      background-color: #434B5C;\n",
              "      box-shadow: 0px 1px 3px 1px rgba(0, 0, 0, 0.15);\n",
              "      filter: drop-shadow(0px 1px 2px rgba(0, 0, 0, 0.3));\n",
              "      fill: #FFFFFF;\n",
              "    }\n",
              "  </style>\n",
              "\n",
              "    <script>\n",
              "      const buttonEl =\n",
              "        document.querySelector('#df-0e41ea4b-3291-4f45-8f70-c9101ec84704 button.colab-df-convert');\n",
              "      buttonEl.style.display =\n",
              "        google.colab.kernel.accessAllowed ? 'block' : 'none';\n",
              "\n",
              "      async function convertToInteractive(key) {\n",
              "        const element = document.querySelector('#df-0e41ea4b-3291-4f45-8f70-c9101ec84704');\n",
              "        const dataTable =\n",
              "          await google.colab.kernel.invokeFunction('convertToInteractive',\n",
              "                                                    [key], {});\n",
              "        if (!dataTable) return;\n",
              "\n",
              "        const docLinkHtml = 'Like what you see? Visit the ' +\n",
              "          '<a target=\"_blank\" href=https://colab.research.google.com/notebooks/data_table.ipynb>data table notebook</a>'\n",
              "          + ' to learn more about interactive tables.';\n",
              "        element.innerHTML = '';\n",
              "        dataTable['output_type'] = 'display_data';\n",
              "        await google.colab.output.renderOutput(dataTable, element);\n",
              "        const docLink = document.createElement('div');\n",
              "        docLink.innerHTML = docLinkHtml;\n",
              "        element.appendChild(docLink);\n",
              "      }\n",
              "    </script>\n",
              "  </div>\n",
              "\n",
              "\n",
              "<div id=\"df-225ad570-bb2c-41b6-96a3-c6612862f881\">\n",
              "  <button class=\"colab-df-quickchart\" onclick=\"quickchart('df-225ad570-bb2c-41b6-96a3-c6612862f881')\"\n",
              "            title=\"Suggest charts\"\n",
              "            style=\"display:none;\">\n",
              "\n",
              "<svg xmlns=\"http://www.w3.org/2000/svg\" height=\"24px\"viewBox=\"0 0 24 24\"\n",
              "     width=\"24px\">\n",
              "    <g>\n",
              "        <path d=\"M19 3H5c-1.1 0-2 .9-2 2v14c0 1.1.9 2 2 2h14c1.1 0 2-.9 2-2V5c0-1.1-.9-2-2-2zM9 17H7v-7h2v7zm4 0h-2V7h2v10zm4 0h-2v-4h2v4z\"/>\n",
              "    </g>\n",
              "</svg>\n",
              "  </button>\n",
              "\n",
              "<style>\n",
              "  .colab-df-quickchart {\n",
              "      --bg-color: #E8F0FE;\n",
              "      --fill-color: #1967D2;\n",
              "      --hover-bg-color: #E2EBFA;\n",
              "      --hover-fill-color: #174EA6;\n",
              "      --disabled-fill-color: #AAA;\n",
              "      --disabled-bg-color: #DDD;\n",
              "  }\n",
              "\n",
              "  [theme=dark] .colab-df-quickchart {\n",
              "      --bg-color: #3B4455;\n",
              "      --fill-color: #D2E3FC;\n",
              "      --hover-bg-color: #434B5C;\n",
              "      --hover-fill-color: #FFFFFF;\n",
              "      --disabled-bg-color: #3B4455;\n",
              "      --disabled-fill-color: #666;\n",
              "  }\n",
              "\n",
              "  .colab-df-quickchart {\n",
              "    background-color: var(--bg-color);\n",
              "    border: none;\n",
              "    border-radius: 50%;\n",
              "    cursor: pointer;\n",
              "    display: none;\n",
              "    fill: var(--fill-color);\n",
              "    height: 32px;\n",
              "    padding: 0;\n",
              "    width: 32px;\n",
              "  }\n",
              "\n",
              "  .colab-df-quickchart:hover {\n",
              "    background-color: var(--hover-bg-color);\n",
              "    box-shadow: 0 1px 2px rgba(60, 64, 67, 0.3), 0 1px 3px 1px rgba(60, 64, 67, 0.15);\n",
              "    fill: var(--button-hover-fill-color);\n",
              "  }\n",
              "\n",
              "  .colab-df-quickchart-complete:disabled,\n",
              "  .colab-df-quickchart-complete:disabled:hover {\n",
              "    background-color: var(--disabled-bg-color);\n",
              "    fill: var(--disabled-fill-color);\n",
              "    box-shadow: none;\n",
              "  }\n",
              "\n",
              "  .colab-df-spinner {\n",
              "    border: 2px solid var(--fill-color);\n",
              "    border-color: transparent;\n",
              "    border-bottom-color: var(--fill-color);\n",
              "    animation:\n",
              "      spin 1s steps(1) infinite;\n",
              "  }\n",
              "\n",
              "  @keyframes spin {\n",
              "    0% {\n",
              "      border-color: transparent;\n",
              "      border-bottom-color: var(--fill-color);\n",
              "      border-left-color: var(--fill-color);\n",
              "    }\n",
              "    20% {\n",
              "      border-color: transparent;\n",
              "      border-left-color: var(--fill-color);\n",
              "      border-top-color: var(--fill-color);\n",
              "    }\n",
              "    30% {\n",
              "      border-color: transparent;\n",
              "      border-left-color: var(--fill-color);\n",
              "      border-top-color: var(--fill-color);\n",
              "      border-right-color: var(--fill-color);\n",
              "    }\n",
              "    40% {\n",
              "      border-color: transparent;\n",
              "      border-right-color: var(--fill-color);\n",
              "      border-top-color: var(--fill-color);\n",
              "    }\n",
              "    60% {\n",
              "      border-color: transparent;\n",
              "      border-right-color: var(--fill-color);\n",
              "    }\n",
              "    80% {\n",
              "      border-color: transparent;\n",
              "      border-right-color: var(--fill-color);\n",
              "      border-bottom-color: var(--fill-color);\n",
              "    }\n",
              "    90% {\n",
              "      border-color: transparent;\n",
              "      border-bottom-color: var(--fill-color);\n",
              "    }\n",
              "  }\n",
              "</style>\n",
              "\n",
              "  <script>\n",
              "    async function quickchart(key) {\n",
              "      const quickchartButtonEl =\n",
              "        document.querySelector('#' + key + ' button');\n",
              "      quickchartButtonEl.disabled = true;  // To prevent multiple clicks.\n",
              "      quickchartButtonEl.classList.add('colab-df-spinner');\n",
              "      try {\n",
              "        const charts = await google.colab.kernel.invokeFunction(\n",
              "            'suggestCharts', [key], {});\n",
              "      } catch (error) {\n",
              "        console.error('Error during call to suggestCharts:', error);\n",
              "      }\n",
              "      quickchartButtonEl.classList.remove('colab-df-spinner');\n",
              "      quickchartButtonEl.classList.add('colab-df-quickchart-complete');\n",
              "    }\n",
              "    (() => {\n",
              "      let quickchartButtonEl =\n",
              "        document.querySelector('#df-225ad570-bb2c-41b6-96a3-c6612862f881 button');\n",
              "      quickchartButtonEl.style.display =\n",
              "        google.colab.kernel.accessAllowed ? 'block' : 'none';\n",
              "    })();\n",
              "  </script>\n",
              "</div>\n",
              "    </div>\n",
              "  </div>\n"
            ]
          },
          "metadata": {},
          "execution_count": 22
        }
      ]
    },
    {
      "cell_type": "code",
      "source": [
        "# We will extend our training dataset using Threads reviews\n",
        "# https://www.kaggle.com/datasets/jayagopal20/threads-app-reviews-dataset?resource=download\n",
        "df2 = pd.read_csv(\"threads_reviews.csv\").reset_index(drop=True)\n",
        "df2[\"app_id\"] = df2[\"source\"].apply(lambda x: \"com.instagram.barcelona\")\n",
        "df2[\"at\"] = df2[\"review_date\"]\n",
        "df2[\"content\"] = df2[\"review_description\"]\n",
        "df2[\"score\"] = df2[\"rating\"]\n",
        "df2[[\"content\", \"score\", \"at\", \"app_id\"]].head()\n",
        "\n",
        "# We will use a random sample of 5000 reviews\n",
        "df2 = df2.sample(n=5000, random_state=42).copy()"
      ],
      "metadata": {
        "id": "BRDbkD5dBCtM"
      },
      "execution_count": 24,
      "outputs": []
    },
    {
      "cell_type": "code",
      "source": [
        "# We will also parse our second dataset\n",
        "parsed_reviews = []\n",
        "counter = 0\n",
        "for i in list(df2.index):\n",
        "  content = df2.at[i, \"content\"]\n",
        "  parsed = nlp(content)\n",
        "  if counter < 10:\n",
        "    print(\"content:\", content)\n",
        "    print(\"parsed:\", parsed)\n",
        "    print(\"#\"*10)\n",
        "  parsed_reviews.append(parsed)\n",
        "  counter += 1\n",
        "df2[\"parsedContent\"] = parsed_reviews"
      ],
      "metadata": {
        "colab": {
          "base_uri": "https://localhost:8080/"
        },
        "id": "_FwuCuJCC7nG",
        "outputId": "988cd5bd-c90c-433a-e86c-1ec8e9bc85d4"
      },
      "execution_count": 25,
      "outputs": [
        {
          "output_type": "stream",
          "name": "stdout",
          "text": [
            "content: I think you guys also keep sign in by Facebook account brings more user\n",
            "parsed: think guy sign facebook account bring user \n",
            "##########\n",
            "content: 5 🌟🌟🌟🌟🌟\n",
            "parsed: \n",
            "##########\n",
            "content: Amazing Application. Thanks team Meta\n",
            "parsed: amazing application thank team meta \n",
            "##########\n",
            "content: it was great! lovin' d app so far 💘 pero I hope it have like the thing to pin ur post\n",
            "parsed: great lovin d app far pero hope like thing pin ur post \n",
            "##########\n",
            "content: Good but had a bug it wouldnt let me add photo so had to reinstall\n",
            "parsed: good bug wouldnt let add photo reinstall \n",
            "##########\n",
            "content: Very interesting and addictive\n",
            "parsed: interesting addictive \n",
            "##########\n",
            "content: RIP privacy\n",
            "parsed: rip privacy \n",
            "##########\n",
            "content: It's good\n",
            "parsed: s good \n",
            "##########\n",
            "content: Wow\n",
            "parsed: \n",
            "##########\n",
            "content: This is nice app\n",
            "parsed: nice app \n",
            "##########\n"
          ]
        }
      ]
    },
    {
      "cell_type": "code",
      "source": [
        "# Parsing Threads reviews leaves around 60% usable\n",
        "print(df2.shape[0])\n",
        "df_use2 = df2.loc[df2[\"parsedContent\"].apply(lambda x: len(x)>1)].copy()\n",
        "print(df_use2.shape[0])"
      ],
      "metadata": {
        "colab": {
          "base_uri": "https://localhost:8080/"
        },
        "id": "Pu5B4Zl0DEBE",
        "outputId": "d6c7dea3-0387-4a4e-f8e2-57e5f6521866"
      },
      "execution_count": 26,
      "outputs": [
        {
          "output_type": "stream",
          "name": "stdout",
          "text": [
            "5000\n",
            "3204\n"
          ]
        }
      ]
    },
    {
      "cell_type": "code",
      "source": [
        "# We will also make this dataset fit for training\n",
        "df_use2[\"sentiment_pos\"] = df_use2[\"score\"].apply(lambda x: x>3)\n",
        "df_use2['cats'] = [{'POSITIVE': y==True, 'NEGATIVE': y==False} for y in df_use2['sentiment_pos']]\n",
        "df_use2[[\"content\", \"sentiment_pos\"]].head()"
      ],
      "metadata": {
        "colab": {
          "base_uri": "https://localhost:8080/",
          "height": 206
        },
        "id": "XaMNmEU2RGRF",
        "outputId": "8f6ef5b3-c22d-4724-b135-8356e18cf6f2"
      },
      "execution_count": 27,
      "outputs": [
        {
          "output_type": "execute_result",
          "data": {
            "text/plain": [
              "                                                 content  sentiment_pos\n",
              "13375  I think you guys also keep sign in by Facebook...           True\n",
              "32221              Amazing Application. Thanks team Meta           True\n",
              "7686   it was great! lovin' d app so far 💘 pero I hop...           True\n",
              "16063  Good but had a bug it wouldnt let me add photo...           True\n",
              "32977                     Very interesting and addictive           True"
            ],
            "text/html": [
              "\n",
              "  <div id=\"df-0218ec6b-0e06-4549-afb8-093c36fd05a6\" class=\"colab-df-container\">\n",
              "    <div>\n",
              "<style scoped>\n",
              "    .dataframe tbody tr th:only-of-type {\n",
              "        vertical-align: middle;\n",
              "    }\n",
              "\n",
              "    .dataframe tbody tr th {\n",
              "        vertical-align: top;\n",
              "    }\n",
              "\n",
              "    .dataframe thead th {\n",
              "        text-align: right;\n",
              "    }\n",
              "</style>\n",
              "<table border=\"1\" class=\"dataframe\">\n",
              "  <thead>\n",
              "    <tr style=\"text-align: right;\">\n",
              "      <th></th>\n",
              "      <th>content</th>\n",
              "      <th>sentiment_pos</th>\n",
              "    </tr>\n",
              "  </thead>\n",
              "  <tbody>\n",
              "    <tr>\n",
              "      <th>13375</th>\n",
              "      <td>I think you guys also keep sign in by Facebook...</td>\n",
              "      <td>True</td>\n",
              "    </tr>\n",
              "    <tr>\n",
              "      <th>32221</th>\n",
              "      <td>Amazing Application. Thanks team Meta</td>\n",
              "      <td>True</td>\n",
              "    </tr>\n",
              "    <tr>\n",
              "      <th>7686</th>\n",
              "      <td>it was great! lovin' d app so far 💘 pero I hop...</td>\n",
              "      <td>True</td>\n",
              "    </tr>\n",
              "    <tr>\n",
              "      <th>16063</th>\n",
              "      <td>Good but had a bug it wouldnt let me add photo...</td>\n",
              "      <td>True</td>\n",
              "    </tr>\n",
              "    <tr>\n",
              "      <th>32977</th>\n",
              "      <td>Very interesting and addictive</td>\n",
              "      <td>True</td>\n",
              "    </tr>\n",
              "  </tbody>\n",
              "</table>\n",
              "</div>\n",
              "    <div class=\"colab-df-buttons\">\n",
              "\n",
              "  <div class=\"colab-df-container\">\n",
              "    <button class=\"colab-df-convert\" onclick=\"convertToInteractive('df-0218ec6b-0e06-4549-afb8-093c36fd05a6')\"\n",
              "            title=\"Convert this dataframe to an interactive table.\"\n",
              "            style=\"display:none;\">\n",
              "\n",
              "  <svg xmlns=\"http://www.w3.org/2000/svg\" height=\"24px\" viewBox=\"0 -960 960 960\">\n",
              "    <path d=\"M120-120v-720h720v720H120Zm60-500h600v-160H180v160Zm220 220h160v-160H400v160Zm0 220h160v-160H400v160ZM180-400h160v-160H180v160Zm440 0h160v-160H620v160ZM180-180h160v-160H180v160Zm440 0h160v-160H620v160Z\"/>\n",
              "  </svg>\n",
              "    </button>\n",
              "\n",
              "  <style>\n",
              "    .colab-df-container {\n",
              "      display:flex;\n",
              "      gap: 12px;\n",
              "    }\n",
              "\n",
              "    .colab-df-convert {\n",
              "      background-color: #E8F0FE;\n",
              "      border: none;\n",
              "      border-radius: 50%;\n",
              "      cursor: pointer;\n",
              "      display: none;\n",
              "      fill: #1967D2;\n",
              "      height: 32px;\n",
              "      padding: 0 0 0 0;\n",
              "      width: 32px;\n",
              "    }\n",
              "\n",
              "    .colab-df-convert:hover {\n",
              "      background-color: #E2EBFA;\n",
              "      box-shadow: 0px 1px 2px rgba(60, 64, 67, 0.3), 0px 1px 3px 1px rgba(60, 64, 67, 0.15);\n",
              "      fill: #174EA6;\n",
              "    }\n",
              "\n",
              "    .colab-df-buttons div {\n",
              "      margin-bottom: 4px;\n",
              "    }\n",
              "\n",
              "    [theme=dark] .colab-df-convert {\n",
              "      background-color: #3B4455;\n",
              "      fill: #D2E3FC;\n",
              "    }\n",
              "\n",
              "    [theme=dark] .colab-df-convert:hover {\n",
              "      background-color: #434B5C;\n",
              "      box-shadow: 0px 1px 3px 1px rgba(0, 0, 0, 0.15);\n",
              "      filter: drop-shadow(0px 1px 2px rgba(0, 0, 0, 0.3));\n",
              "      fill: #FFFFFF;\n",
              "    }\n",
              "  </style>\n",
              "\n",
              "    <script>\n",
              "      const buttonEl =\n",
              "        document.querySelector('#df-0218ec6b-0e06-4549-afb8-093c36fd05a6 button.colab-df-convert');\n",
              "      buttonEl.style.display =\n",
              "        google.colab.kernel.accessAllowed ? 'block' : 'none';\n",
              "\n",
              "      async function convertToInteractive(key) {\n",
              "        const element = document.querySelector('#df-0218ec6b-0e06-4549-afb8-093c36fd05a6');\n",
              "        const dataTable =\n",
              "          await google.colab.kernel.invokeFunction('convertToInteractive',\n",
              "                                                    [key], {});\n",
              "        if (!dataTable) return;\n",
              "\n",
              "        const docLinkHtml = 'Like what you see? Visit the ' +\n",
              "          '<a target=\"_blank\" href=https://colab.research.google.com/notebooks/data_table.ipynb>data table notebook</a>'\n",
              "          + ' to learn more about interactive tables.';\n",
              "        element.innerHTML = '';\n",
              "        dataTable['output_type'] = 'display_data';\n",
              "        await google.colab.output.renderOutput(dataTable, element);\n",
              "        const docLink = document.createElement('div');\n",
              "        docLink.innerHTML = docLinkHtml;\n",
              "        element.appendChild(docLink);\n",
              "      }\n",
              "    </script>\n",
              "  </div>\n",
              "\n",
              "\n",
              "<div id=\"df-2f21713e-493f-4ff6-a438-ca9c8f1a360c\">\n",
              "  <button class=\"colab-df-quickchart\" onclick=\"quickchart('df-2f21713e-493f-4ff6-a438-ca9c8f1a360c')\"\n",
              "            title=\"Suggest charts\"\n",
              "            style=\"display:none;\">\n",
              "\n",
              "<svg xmlns=\"http://www.w3.org/2000/svg\" height=\"24px\"viewBox=\"0 0 24 24\"\n",
              "     width=\"24px\">\n",
              "    <g>\n",
              "        <path d=\"M19 3H5c-1.1 0-2 .9-2 2v14c0 1.1.9 2 2 2h14c1.1 0 2-.9 2-2V5c0-1.1-.9-2-2-2zM9 17H7v-7h2v7zm4 0h-2V7h2v10zm4 0h-2v-4h2v4z\"/>\n",
              "    </g>\n",
              "</svg>\n",
              "  </button>\n",
              "\n",
              "<style>\n",
              "  .colab-df-quickchart {\n",
              "      --bg-color: #E8F0FE;\n",
              "      --fill-color: #1967D2;\n",
              "      --hover-bg-color: #E2EBFA;\n",
              "      --hover-fill-color: #174EA6;\n",
              "      --disabled-fill-color: #AAA;\n",
              "      --disabled-bg-color: #DDD;\n",
              "  }\n",
              "\n",
              "  [theme=dark] .colab-df-quickchart {\n",
              "      --bg-color: #3B4455;\n",
              "      --fill-color: #D2E3FC;\n",
              "      --hover-bg-color: #434B5C;\n",
              "      --hover-fill-color: #FFFFFF;\n",
              "      --disabled-bg-color: #3B4455;\n",
              "      --disabled-fill-color: #666;\n",
              "  }\n",
              "\n",
              "  .colab-df-quickchart {\n",
              "    background-color: var(--bg-color);\n",
              "    border: none;\n",
              "    border-radius: 50%;\n",
              "    cursor: pointer;\n",
              "    display: none;\n",
              "    fill: var(--fill-color);\n",
              "    height: 32px;\n",
              "    padding: 0;\n",
              "    width: 32px;\n",
              "  }\n",
              "\n",
              "  .colab-df-quickchart:hover {\n",
              "    background-color: var(--hover-bg-color);\n",
              "    box-shadow: 0 1px 2px rgba(60, 64, 67, 0.3), 0 1px 3px 1px rgba(60, 64, 67, 0.15);\n",
              "    fill: var(--button-hover-fill-color);\n",
              "  }\n",
              "\n",
              "  .colab-df-quickchart-complete:disabled,\n",
              "  .colab-df-quickchart-complete:disabled:hover {\n",
              "    background-color: var(--disabled-bg-color);\n",
              "    fill: var(--disabled-fill-color);\n",
              "    box-shadow: none;\n",
              "  }\n",
              "\n",
              "  .colab-df-spinner {\n",
              "    border: 2px solid var(--fill-color);\n",
              "    border-color: transparent;\n",
              "    border-bottom-color: var(--fill-color);\n",
              "    animation:\n",
              "      spin 1s steps(1) infinite;\n",
              "  }\n",
              "\n",
              "  @keyframes spin {\n",
              "    0% {\n",
              "      border-color: transparent;\n",
              "      border-bottom-color: var(--fill-color);\n",
              "      border-left-color: var(--fill-color);\n",
              "    }\n",
              "    20% {\n",
              "      border-color: transparent;\n",
              "      border-left-color: var(--fill-color);\n",
              "      border-top-color: var(--fill-color);\n",
              "    }\n",
              "    30% {\n",
              "      border-color: transparent;\n",
              "      border-left-color: var(--fill-color);\n",
              "      border-top-color: var(--fill-color);\n",
              "      border-right-color: var(--fill-color);\n",
              "    }\n",
              "    40% {\n",
              "      border-color: transparent;\n",
              "      border-right-color: var(--fill-color);\n",
              "      border-top-color: var(--fill-color);\n",
              "    }\n",
              "    60% {\n",
              "      border-color: transparent;\n",
              "      border-right-color: var(--fill-color);\n",
              "    }\n",
              "    80% {\n",
              "      border-color: transparent;\n",
              "      border-right-color: var(--fill-color);\n",
              "      border-bottom-color: var(--fill-color);\n",
              "    }\n",
              "    90% {\n",
              "      border-color: transparent;\n",
              "      border-bottom-color: var(--fill-color);\n",
              "    }\n",
              "  }\n",
              "</style>\n",
              "\n",
              "  <script>\n",
              "    async function quickchart(key) {\n",
              "      const quickchartButtonEl =\n",
              "        document.querySelector('#' + key + ' button');\n",
              "      quickchartButtonEl.disabled = true;  // To prevent multiple clicks.\n",
              "      quickchartButtonEl.classList.add('colab-df-spinner');\n",
              "      try {\n",
              "        const charts = await google.colab.kernel.invokeFunction(\n",
              "            'suggestCharts', [key], {});\n",
              "      } catch (error) {\n",
              "        console.error('Error during call to suggestCharts:', error);\n",
              "      }\n",
              "      quickchartButtonEl.classList.remove('colab-df-spinner');\n",
              "      quickchartButtonEl.classList.add('colab-df-quickchart-complete');\n",
              "    }\n",
              "    (() => {\n",
              "      let quickchartButtonEl =\n",
              "        document.querySelector('#df-2f21713e-493f-4ff6-a438-ca9c8f1a360c button');\n",
              "      quickchartButtonEl.style.display =\n",
              "        google.colab.kernel.accessAllowed ? 'block' : 'none';\n",
              "    })();\n",
              "  </script>\n",
              "</div>\n",
              "    </div>\n",
              "  </div>\n"
            ]
          },
          "metadata": {},
          "execution_count": 27
        }
      ]
    },
    {
      "cell_type": "code",
      "source": [
        "# Randomly sample for a training dataset, use the rest for testing\n",
        "df_train = df_use.sample(frac=0.33, random_state=42).copy()\n",
        "df_dev = df_use.drop(df_train.index, inplace=False).sample(frac=0.5, random_state=42).copy()\n",
        "df_test = df_use.drop(df_train.index).drop(df_dev.index).copy()\n",
        "\n",
        "# We will extend our training dataset with processed Threads reviews\n",
        "df_train = pd.concat([\n",
        "    df_train[[\"content\", \"parsedContent\", \"score\", \"at\", \"app_id\", \"cats\", \"sentiment_pos\"]],\n",
        "    df_use2[[\"content\", \"parsedContent\", \"score\", \"at\", \"app_id\", \"cats\", \"sentiment_pos\"]]\n",
        "    ]).reset_index(drop=True).copy()"
      ],
      "metadata": {
        "id": "e3yK8i4oSkE6"
      },
      "execution_count": 28,
      "outputs": []
    },
    {
      "cell_type": "code",
      "source": [
        "print(df_train.shape) # Training dataset is quite large\n",
        "print(df_dev.shape)\n",
        "print(df_test.shape)"
      ],
      "metadata": {
        "colab": {
          "base_uri": "https://localhost:8080/"
        },
        "id": "Y84uQsntTg2c",
        "outputId": "bb81dba8-274e-4562-ebde-f52f09af3b26"
      },
      "execution_count": 29,
      "outputs": [
        {
          "output_type": "stream",
          "name": "stdout",
          "text": [
            "(3386, 7)\n",
            "(184, 7)\n",
            "(185, 7)\n"
          ]
        }
      ]
    },
    {
      "cell_type": "code",
      "source": [
        "from spacy.training import Example\n",
        "from spacy.tokens import DocBin\n",
        "\n",
        "# Create training, validation and test sets and save them in .spacy format\n",
        "bin = DocBin()\n",
        "\n",
        "for i in list(df_train.index):\n",
        "  example = Example.from_dict(df_train.at[i, \"parsedContent\"], {'cats': df_train.at[i, 'cats']})\n",
        "  bin.add(example.reference)\n",
        "\n",
        "bin.to_disk('train.spacy')\n",
        "\n",
        "bin = DocBin()\n",
        "\n",
        "for i in list(df_dev.index):\n",
        "  example = Example.from_dict(df_dev.at[i, \"parsedContent\"], {'cats': df_dev.at[i, 'cats']})\n",
        "  bin.add(example.reference)\n",
        "\n",
        "bin.to_disk('dev.spacy')\n",
        "\n",
        "bin = DocBin()\n",
        "\n",
        "for i in list(df_test.index):\n",
        "  example = Example.from_dict(df_test.at[i, \"parsedContent\"], {'cats': df_test.at[i, 'cats']})\n",
        "  bin.add(example.reference)\n",
        "\n",
        "bin.to_disk('test.spacy')"
      ],
      "metadata": {
        "id": "p8kds0xzTQgJ"
      },
      "execution_count": 30,
      "outputs": []
    },
    {
      "cell_type": "code",
      "source": [
        "# create a configuration file with default settings\n",
        "!python -m spacy init config -p textcat config.cfg"
      ],
      "metadata": {
        "colab": {
          "base_uri": "https://localhost:8080/"
        },
        "id": "t81jcy9USPff",
        "outputId": "acaf719a-c2d6-46a2-c9dd-37743008a9c8"
      },
      "execution_count": 31,
      "outputs": [
        {
          "output_type": "stream",
          "name": "stdout",
          "text": [
            "2024-01-25 19:11:06.407573: E external/local_xla/xla/stream_executor/cuda/cuda_dnn.cc:9261] Unable to register cuDNN factory: Attempting to register factory for plugin cuDNN when one has already been registered\n",
            "2024-01-25 19:11:06.407636: E external/local_xla/xla/stream_executor/cuda/cuda_fft.cc:607] Unable to register cuFFT factory: Attempting to register factory for plugin cuFFT when one has already been registered\n",
            "2024-01-25 19:11:06.409043: E external/local_xla/xla/stream_executor/cuda/cuda_blas.cc:1515] Unable to register cuBLAS factory: Attempting to register factory for plugin cuBLAS when one has already been registered\n",
            "2024-01-25 19:11:07.723851: W tensorflow/compiler/tf2tensorrt/utils/py_utils.cc:38] TF-TRT Warning: Could not find TensorRT\n",
            "\u001b[38;5;3m⚠ To generate a more effective transformer-based config (GPU-only),\n",
            "install the spacy-transformers package and re-run this command. The config\n",
            "generated now does not use transformers.\u001b[0m\n",
            "\u001b[38;5;4mℹ Generated config template specific for your use case\u001b[0m\n",
            "- Language: en\n",
            "- Pipeline: textcat\n",
            "- Optimize for: efficiency\n",
            "- Hardware: CPU\n",
            "- Transformer: None\n",
            "\u001b[38;5;2m✔ Auto-filled config with all values\u001b[0m\n",
            "\u001b[38;5;2m✔ Saved config\u001b[0m\n",
            "config.cfg\n",
            "You can now add your data and train your pipeline:\n",
            "python -m spacy train config.cfg --paths.train ./train.spacy --paths.dev ./dev.spacy\n"
          ]
        }
      ]
    },
    {
      "cell_type": "code",
      "source": [
        "# train the model\n",
        "!python -m spacy train config.cfg --output ./output --paths.train ./train.spacy --paths.dev ./dev.spacy"
      ],
      "metadata": {
        "colab": {
          "base_uri": "https://localhost:8080/"
        },
        "id": "gwVj3XmARs01",
        "outputId": "b7051279-1601-4a6e-fb8d-adf5bc57dc32"
      },
      "execution_count": 32,
      "outputs": [
        {
          "output_type": "stream",
          "name": "stdout",
          "text": [
            "2024-01-25 19:11:17.899805: E external/local_xla/xla/stream_executor/cuda/cuda_dnn.cc:9261] Unable to register cuDNN factory: Attempting to register factory for plugin cuDNN when one has already been registered\n",
            "2024-01-25 19:11:17.899880: E external/local_xla/xla/stream_executor/cuda/cuda_fft.cc:607] Unable to register cuFFT factory: Attempting to register factory for plugin cuFFT when one has already been registered\n",
            "2024-01-25 19:11:17.901160: E external/local_xla/xla/stream_executor/cuda/cuda_blas.cc:1515] Unable to register cuBLAS factory: Attempting to register factory for plugin cuBLAS when one has already been registered\n",
            "2024-01-25 19:11:19.218873: W tensorflow/compiler/tf2tensorrt/utils/py_utils.cc:38] TF-TRT Warning: Could not find TensorRT\n",
            "\u001b[38;5;2m✔ Created output directory: output\u001b[0m\n",
            "\u001b[38;5;4mℹ Saving to output directory: output\u001b[0m\n",
            "\u001b[38;5;4mℹ Using CPU\u001b[0m\n",
            "\u001b[1m\n",
            "=========================== Initializing pipeline ===========================\u001b[0m\n",
            "\u001b[38;5;2m✔ Initialized pipeline\u001b[0m\n",
            "\u001b[1m\n",
            "============================= Training pipeline =============================\u001b[0m\n",
            "\u001b[38;5;4mℹ Pipeline: ['textcat']\u001b[0m\n",
            "\u001b[38;5;4mℹ Initial learn rate: 0.001\u001b[0m\n",
            "E    #       LOSS TEXTCAT  CATS_SCORE  SCORE \n",
            "---  ------  ------------  ----------  ------\n",
            "  0       0          0.25       63.00    0.63\n",
            "  0     200         40.68       79.66    0.80\n",
            "  1     400         31.81       81.54    0.82\n",
            "  2     600         26.61       80.95    0.81\n",
            "  3     800         22.84       79.82    0.80\n",
            "  5    1000         20.69       79.30    0.79\n",
            "  6    1200         18.31       79.82    0.80\n",
            "  9    1400         16.97       80.42    0.80\n",
            " 11    1600         15.23       80.95    0.81\n",
            " 15    1800         14.04       80.95    0.81\n",
            " 19    2000         12.99       80.95    0.81\n",
            "\u001b[38;5;2m✔ Saved pipeline to output directory\u001b[0m\n",
            "output/model-last\n"
          ]
        }
      ]
    },
    {
      "cell_type": "code",
      "source": [
        "# test the saved model\n",
        "nlp = spacy.load(\"output/model-best\")"
      ],
      "metadata": {
        "id": "T17ZR8rXWOwn"
      },
      "execution_count": 33,
      "outputs": []
    },
    {
      "cell_type": "code",
      "source": [
        "# evaluate on the first 5 reviews\n",
        "for i in list(df_test.index)[:5]:\n",
        "  content = df_test.at[i, \"parsedContent\"]\n",
        "  positive_sentiment = df_test.at[i, \"sentiment_pos\"]\n",
        "  print(\"First 5 words:\", content[:5], \"predicted positive probability:\", round(nlp(content).cats[\"POSITIVE\"], 2), \"true positive sentiment:\", positive_sentiment)"
      ],
      "metadata": {
        "colab": {
          "base_uri": "https://localhost:8080/"
        },
        "id": "JZ5SHIndXgBs",
        "outputId": "a0dc0e0f-8723-4ae9-e946-3ae10f899d28"
      },
      "execution_count": 34,
      "outputs": [
        {
          "output_type": "stream",
          "name": "stdout",
          "text": [
            "First 5 words: good app predicted positive probability: 0.71 true positive sentiment: True\n",
            "First 5 words: nice app predicted positive probability: 0.7 true positive sentiment: True\n",
            "First 5 words: barr user login tangible reason predicted positive probability: 0.31 true positive sentiment: False\n",
            "First 5 words: good study predicted positive probability: 0.66 true positive sentiment: True\n",
            "First 5 words: hein soe predicted positive probability: 0.51 true positive sentiment: False\n"
          ]
        }
      ]
    },
    {
      "cell_type": "code",
      "source": [
        "positive_class = []\n",
        "for i in list(df_test.index):\n",
        "  content = df_test.at[i, \"parsedContent\"]\n",
        "  positive_class.append(nlp(content).cats[\"POSITIVE\"])\n",
        "df_test[\"sentiment_pos_pred\"] = positive_class"
      ],
      "metadata": {
        "id": "EkeHd94O9i6L"
      },
      "execution_count": 35,
      "outputs": []
    },
    {
      "cell_type": "code",
      "source": [
        "from sklearn.metrics import RocCurveDisplay\n",
        "import matplotlib.pyplot as plt\n",
        "\n",
        "RocCurveDisplay.from_predictions(\n",
        "    df_test[\"sentiment_pos\"],\n",
        "    df_test[\"sentiment_pos_pred\"]\n",
        ")"
      ],
      "metadata": {
        "colab": {
          "base_uri": "https://localhost:8080/",
          "height": 467
        },
        "id": "6RuuTNid86I2",
        "outputId": "1ba47e40-67e4-4a7c-d2ba-97e48c611589"
      },
      "execution_count": 36,
      "outputs": [
        {
          "output_type": "execute_result",
          "data": {
            "text/plain": [
              "<sklearn.metrics._plot.roc_curve.RocCurveDisplay at 0x791501202a70>"
            ]
          },
          "metadata": {},
          "execution_count": 36
        },
        {
          "output_type": "display_data",
          "data": {
            "text/plain": [
              "<Figure size 640x480 with 1 Axes>"
            ],
            "image/png": "[encoded data removed]"
          },
          "metadata": {}
        }
      ]
    },
    {
      "cell_type": "code",
      "source": [
        "predicted_class = []\n",
        "for i in list(df_test.index):\n",
        "  content = df_test.at[i, \"parsedContent\"]\n",
        "  positive = nlp(content).cats[\"POSITIVE\"]\n",
        "  negative = nlp(content).cats[\"NEGATIVE\"]\n",
        "  predicted_class.append(0 if negative > positive else 1)\n",
        "df_test[\"sentiment_pred\"] = predicted_class"
      ],
      "metadata": {
        "id": "ProaPNc3-VX_"
      },
      "execution_count": 37,
      "outputs": []
    },
    {
      "cell_type": "code",
      "source": [
        "from sklearn.metrics import ConfusionMatrixDisplay\n",
        "\n",
        "ConfusionMatrixDisplay.from_predictions(\n",
        "    df_test[\"sentiment_pos\"],\n",
        "    df_test[\"sentiment_pred\"]\n",
        ")"
      ],
      "metadata": {
        "colab": {
          "base_uri": "https://localhost:8080/",
          "height": 467
        },
        "id": "kxhKXECX-DaR",
        "outputId": "75c37bd4-3164-492b-8a96-217db10e4880"
      },
      "execution_count": 38,
      "outputs": [
        {
          "output_type": "execute_result",
          "data": {
            "text/plain": [
              "<sklearn.metrics._plot.confusion_matrix.ConfusionMatrixDisplay at 0x7914fe8174f0>"
            ]
          },
          "metadata": {},
          "execution_count": 38
        },
        {
          "output_type": "display_data",
          "data": {
            "text/plain": [
              "<Figure size 640x480 with 2 Axes>"
            ],
            "image/png": "[encoded data removed]"
          },
          "metadata": {}
        }
      ]
    }
  ],
  "metadata": {
    "colab": {
      "provenance": []
    },
    "kernelspec": {
      "display_name": "Python 3",
      "name": "python3"
    },
    "language_info": {
      "codemirror_mode": {
        "name": "ipython",
        "version": 3
      },
      "file_extension": ".py",
      "mimetype": "text/x-python",
      "name": "python",
      "nbconvert_exporter": "python",
      "pygments_lexer": "ipython3",
      "version": "3.11.3"
    }
  },
  "nbformat": 4,
  "nbformat_minor": 0
}